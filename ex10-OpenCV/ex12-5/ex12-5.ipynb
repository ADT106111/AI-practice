{
 "cells": [
  {
   "cell_type": "code",
   "execution_count": 1,
   "metadata": {},
   "outputs": [],
   "source": [
    "import numpy as np\n",
    "import cv2  #載入分類器 \n",
    "\n",
    "face_cascade = cv2.CascadeClassifier('haarcascade_frontalface_default.xml')\n",
    "#從視訊鏡頭擷取影片\n",
    "cap = cv2.VideoCapture(0)\n",
    "while True:\n",
    "    #Read the frame\n",
    "    _, img = cap.read()\n",
    "    \n",
    "#轉成灰階\n",
    "    gray = cv2.cvtColor(img, cv2.COLOR_BGR2GRAY)\n",
    "\n",
    "#偵測臉部\n",
    "    faces = face_cascade.detectMultiScale(gray, 1.1, 6)\n",
    "    #(gray,scaleFactor=1.1,minNeighbors=8)\n",
    "    \n",
    "    i = 1  #用來編號自動拍照\n",
    "#繪製人臉部分的方框\n",
    "    for(x, y, w, h) in faces:\n",
    "        cv2.rectangle(img, (x, y), (x+w, y+h), (0, 255, 0), 2)  #方框\n",
    "        cv2.circle(img, (int(x + (w/2)), int(y + (h/2))), int(w/2), (0, 0, 225), 2)  #圓形\n",
    "        \n",
    "        crop_img = img[y:y+h, x:x+w]  #裁切圖片\n",
    "        cv2.imwrite(\"Crop_AutoPic_\" + str(i) + \".jpg\", crop_img)  #保存圖片（裁切）\n",
    "        cv2.imwrite(\"Img_AutoPic_\" + str(i) + \".jpg\", img)  #保存圖片（未裁切）\n",
    "        i = i + 1\n",
    "        i = i + 1\n",
    "        \n",
    "#顯示成果\n",
    "    cv2.namedWindow('img', cv2.WINDOW_NORMAL)  #正常視窗大小\n",
    "    cv2.imshow('FaceFound', img)\n",
    "\n",
    "    if cv2.waitKey(30)== ord('s'):  #按\"S\"手動截圖\n",
    "        cv2.imwrite(\"ManualSave.png\", img)\n",
    "        \n",
    "    if cv2.waitKey(30)== ord('q'):  #按\"Q\"離開\n",
    "        break\n",
    "    \n",
    "cap.release()\n",
    "cv2.destroyAllWindows()"
   ]
  },
  {
   "cell_type": "code",
   "execution_count": 2,
   "metadata": {},
   "outputs": [
    {
     "name": "stdout",
     "output_type": "stream",
     "text": [
      "[[390 219 171 171]\n",
      " [123 161 244 244]]\n",
      "AI found 2 people !\n"
     ]
    }
   ],
   "source": [
    "print(faces)\n",
    "print('AI found {0} people !'.format(len(faces)))"
   ]
  }
 ],
 "metadata": {
  "kernelspec": {
   "display_name": "Python 3",
   "language": "python",
   "name": "python3"
  },
  "language_info": {
   "codemirror_mode": {
    "name": "ipython",
    "version": 3
   },
   "file_extension": ".py",
   "mimetype": "text/x-python",
   "name": "python",
   "nbconvert_exporter": "python",
   "pygments_lexer": "ipython3",
   "version": "3.6.5"
  }
 },
 "nbformat": 4,
 "nbformat_minor": 2
}
