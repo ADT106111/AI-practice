{
 "cells": [
  {
   "cell_type": "code",
   "execution_count": 1,
   "metadata": {},
   "outputs": [],
   "source": [
    "import numpy as np\n",
    "import cv2\n",
    "\n",
    "cap = cv2.VideoCapture(0)\n",
    "#變數表示開視訊鏡頭行為\n",
    "\n",
    "while(True):\n",
    "    ret, frame = cap.read()\n",
    "    #傳回值有兩個，第一個是否有讀到圖片，值為True或False，第二個是擷取當前的第一針圖片\n",
    "    cv2.imshow('Myphoto',frame)\n",
    "    \n",
    "    if cv2.waitKey(5) == ord('q'):\n",
    "        break\n",
    "        #按下按鍵 \"Q\" 停止（跳出迴圈）\n",
    "cap.release()  #結束視訊鏡頭\n",
    "cv2.destroyAllWindows()  #關閉視窗"
   ]
  },
  {
   "cell_type": "code",
   "execution_count": null,
   "metadata": {},
   "outputs": [],
   "source": []
  }
 ],
 "metadata": {
  "kernelspec": {
   "display_name": "Python 3",
   "language": "python",
   "name": "python3"
  },
  "language_info": {
   "codemirror_mode": {
    "name": "ipython",
    "version": 3
   },
   "file_extension": ".py",
   "mimetype": "text/x-python",
   "name": "python",
   "nbconvert_exporter": "python",
   "pygments_lexer": "ipython3",
   "version": "3.6.5"
  }
 },
 "nbformat": 4,
 "nbformat_minor": 2
}
