{
 "cells": [
  {
   "cell_type": "code",
   "execution_count": 1,
   "metadata": {},
   "outputs": [
    {
     "data": {
      "text/plain": [
       "'4.1.2'"
      ]
     },
     "execution_count": 1,
     "metadata": {},
     "output_type": "execute_result"
    }
   ],
   "source": [
    "import cv2\n",
    "cv2.__version__"
   ]
  },
  {
   "cell_type": "code",
   "execution_count": 2,
   "metadata": {},
   "outputs": [],
   "source": [
    "img = cv2.imread('star1.jpg')\n",
    "#讀取圖檔\n",
    "\n",
    "cv2.imshow('My Image',img)\n",
    "#顯示圖片，第一個參數是視窗的名字，第二個參數是圖檔的變數名稱\n",
    "\n",
    "cv2.waitKey(0)\n",
    "#參數是等待時間（單位為毫秒），若設定為 0 就表示持續等待至使用者按下任意鍵\n",
    "\n",
    "cv2.destroyAllWindows()\n",
    "#按下任意鍵後關閉所有 OpenCB 的視窗"
   ]
  },
  {
   "cell_type": "code",
   "execution_count": null,
   "metadata": {},
   "outputs": [],
   "source": []
  }
 ],
 "metadata": {
  "kernelspec": {
   "display_name": "Python 3",
   "language": "python",
   "name": "python3"
  },
  "language_info": {
   "codemirror_mode": {
    "name": "ipython",
    "version": 3
   },
   "file_extension": ".py",
   "mimetype": "text/x-python",
   "name": "python",
   "nbconvert_exporter": "python",
   "pygments_lexer": "ipython3",
   "version": "3.6.5"
  }
 },
 "nbformat": 4,
 "nbformat_minor": 2
}
