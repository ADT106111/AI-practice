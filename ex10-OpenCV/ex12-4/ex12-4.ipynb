{
 "cells": [
  {
   "cell_type": "code",
   "execution_count": 1,
   "metadata": {},
   "outputs": [],
   "source": [
    "import numpy as np\n",
    "import cv2                            #需要確認位置\n",
    "face_cascade = cv2.CascadeClassifier('haarcascade_frontalface_default.xml') #載入分類器\n",
    "\n",
    "img = cv2.imread('star2.jpg')  #轉成灰階圖片\n",
    "gray = cv2.cvtColor(img, cv2.COLOR_BGR2GRAY)\n",
    "\n",
    "#偵測臉部\n",
    "faces = face_cascade.detectMultiScale(gray,scaleFactor=1.08,minNeighbors=6,minSize=(32, 32))\n",
    "#繪製人臉部分方框\n",
    "for (x, y, w, h) in faces:\n",
    "    cv2.rectangle(img, (x, y), (x +w, y + h), (0, 0, 225), 3)  #顯示成果\n",
    "    #方框(影像, 頂點座標, 對象頂點座標, 顏色, 寬度)\n",
    "    #(0, 255, 0)欄位可以變更方框顏色(Blue, Green, Red)\n",
    "    \n",
    "    cv2.circle(img, (int(x + (w/2)), int(y + (h/2))), int(w/2), (0, 225, 225), 2)  #顯示成果\n",
    "    #圓形(影像, 圓心, 半徑, 顏色, 寬度)\n",
    "    \n",
    "cv2.namedWindow('img', cv2.WINDOW_NORMAL)  #正常視窗大小\n",
    "cv2.imshow('img', img)  #秀出圖片\n",
    "cv2.imwrite(\"result.jpg\", img)  #保存圖片\n",
    "cv2.waitKey(0)  #等待按下任一按鍵\n",
    "cv2.destroyAllWindows()  #關閉視窗"
   ]
  },
  {
   "cell_type": "code",
   "execution_count": 2,
   "metadata": {},
   "outputs": [
    {
     "name": "stdout",
     "output_type": "stream",
     "text": [
      "[[154  49 179 179]\n",
      " [462  87 166 166]]\n",
      "AI found 2 people !\n"
     ]
    }
   ],
   "source": [
    "print(faces)\n",
    "print('AI found {0} people !'.format(len(faces)))"
   ]
  }
 ],
 "metadata": {
  "kernelspec": {
   "display_name": "Python 3",
   "language": "python",
   "name": "python3"
  },
  "language_info": {
   "codemirror_mode": {
    "name": "ipython",
    "version": 3
   },
   "file_extension": ".py",
   "mimetype": "text/x-python",
   "name": "python",
   "nbconvert_exporter": "python",
   "pygments_lexer": "ipython3",
   "version": "3.6.5"
  }
 },
 "nbformat": 4,
 "nbformat_minor": 2
}
