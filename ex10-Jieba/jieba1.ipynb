{
 "cells": [
  {
   "cell_type": "code",
   "execution_count": 1,
   "metadata": {
    "scrolled": true
   },
   "outputs": [
    {
     "name": "stderr",
     "output_type": "stream",
     "text": [
      "Building prefix dict from the default dictionary ...\n",
      "Loading model from cache C:\\Users\\user\\AppData\\Local\\Temp\\jieba.cache\n",
      "Loading model cost 0.567 seconds.\n",
      "Prefix dict has been built succesfully.\n"
     ]
    },
    {
     "name": "stdout",
     "output_type": "stream",
     "text": [
      "Full Mode: 我/ 來/ 自/ 臺/ 中/ 教育/ 大/ 學\n",
      "Default Mode: 我來/ 自/ 臺/ 中/ 教育/ 大學\n",
      "我來, 自, 臺, 中, 教育, 大學\n",
      "周, 某某, 就, 讀, 於, 臺, 中, 教育, 大學, ，, 現在, 在, 數位, 系當, 肥宅\n"
     ]
    }
   ],
   "source": [
    "#encoding=utf-8\n",
    "import jieba\n",
    "\n",
    "seg_list = jieba.cut(\"我來自臺中教育大學\",cut_all=True)\n",
    "print (\"Full Mode:\",\"/ \".join(seg_list)) #全模式\n",
    "\n",
    "seg_list = jieba.cut(\"我來自臺中教育大學\",cut_all=False)\n",
    "print (\"Default Mode:\",\"/ \".join(seg_list)) #精確模式\n",
    "\n",
    "seg_list = jieba.cut(\"我來自臺中教育大學\") #默認是精確模式\n",
    "print (\", \".join(seg_list))\n",
    "\n",
    "seg_list = jieba.cut_for_search(\"周某某就讀於臺中教育大學，現在在數位系當肥宅\") #搜尋引擎模式\n",
    "print (\", \".join(seg_list))"
   ]
  },
  {
   "cell_type": "code",
   "execution_count": 2,
   "metadata": {},
   "outputs": [
    {
     "name": "stdout",
     "output_type": "stream",
     "text": [
      "預設模式:我|從|臺|北來|臺|中|就|讀|中|教育|大學數|位系|大學部\n",
      "全文模式:我|從|臺|北|來|臺|中|就|讀|中|教育|大|學|數|位|系|大|學|部\n",
      "預設模式:我|從|臺|北來|臺|中|就|讀|中|教育|大學數|位系|大學部\n"
     ]
    }
   ],
   "source": [
    "sentence = \"我從臺北來臺中就讀臺中教育大學數位系大學部\"\n",
    "# 預設模式斷詞\n",
    "breakword = jieba.cut(sentence, cut_all=False)\n",
    "print(\"預設模式:\" + '|' . join(breakword))\n",
    "\n",
    "# 全文模式斷詞\n",
    "breakword = jieba.cut(sentence, cut_all=True)\n",
    "print(\"全文模式:\" + '|' . join(breakword))\n",
    "\n",
    "# 搜尋引擎模式斷詞\n",
    "breakword = jieba.cut_for_search(sentence)\n",
    "print(\"搜尋引擎:\" + '|' . join(breakword))"
   ]
  },
  {
   "cell_type": "code",
   "execution_count": null,
   "metadata": {},
   "outputs": [],
   "source": []
  }
 ],
 "metadata": {
  "kernelspec": {
   "display_name": "Python 3",
   "language": "python",
   "name": "python3"
  },
  "language_info": {
   "codemirror_mode": {
    "name": "ipython",
    "version": 3
   },
   "file_extension": ".py",
   "mimetype": "text/x-python",
   "name": "python",
   "nbconvert_exporter": "python",
   "pygments_lexer": "ipython3",
   "version": "3.6.5"
  }
 },
 "nbformat": 4,
 "nbformat_minor": 2
}
