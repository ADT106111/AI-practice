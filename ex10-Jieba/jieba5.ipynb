{
 "cells": [
  {
   "cell_type": "code",
   "execution_count": 1,
   "metadata": {
    "scrolled": true
   },
   "outputs": [
    {
     "name": "stderr",
     "output_type": "stream",
     "text": [
      "Building prefix dict from C:\\Users\\user\\Desktop\\ex10-Jieba\\dictionary\\dict.txt.big.txt ...\n",
      "Dumping model to file cache C:\\Users\\user\\AppData\\Local\\Temp\\jieba.u2a39d185c2e1f2810a3dfcf7b4d9eabb.cache\n",
      "Loading model cost 1.127 seconds.\n",
      "Prefix dict has been built succesfully.\n"
     ]
    },
    {
     "name": "stdout",
     "output_type": "stream",
     "text": [
      "停用詞:\"|;|,|，|。|來到|簡稱|數位系|的\n",
      "去除停用:周某某|國立臺中教育大學|就讀|數位內容科技學系|大學部|肥宅組\n",
      "預設模式:周某某|，|來到|國立臺中教育大學|，|就讀|數位內容科技學系|，|簡稱|數位系|，|的|大學部|肥宅組|。\n",
      "全文模式:周某某|某某|||來到|國立|國立臺中教育大學|臺中|臺中教育大學|教育|大學|||就讀|讀數|數位|數位內容科技學系|內容|科技|學系|||簡稱|數位|數位系|||的|大學|大學部|學部|肥宅|肥宅組||\n",
      "搜尋引擎:某某|周某某|，|來到|國立|臺中|教育|大學|國立臺中教育大學|，|就讀|數位|內容|科技|學系|數位內容科技學系|，|簡稱|數位|數位系|，|的|大學|學部|大學部|肥宅|肥宅組|。\n"
     ]
    }
   ],
   "source": [
    "#encoding=utf-8\n",
    "import jieba\n",
    "\n",
    "#設定中文詞庫\n",
    "jieba.set_dictionary('dictionary/dict.txt.big.txt')\n",
    "#增加自訂義詞\n",
    "jieba.load_userdict('dictionary/user_dict.txt')\n",
    "#打開停用字辭典\n",
    "with open('dictionary/stopword.txt', 'r', encoding='utf-8-sig') as file:\n",
    "    stops = file.read().split('\\n') # 將停用詞儲存在stop串列中\n",
    "print(\"停用詞:\"+'|' . join(stops))\n",
    "\n",
    "sentence = \"周某某，來到國立臺中教育大學，就讀數位內容科技學系，簡稱數位系，的大學部肥宅組。\"\n",
    "\n",
    "jieba.add_word('肥宅組')\n",
    "jieba.add_word('大學部')\n",
    "\n",
    "# 去除停用詞模式\n",
    "breakword = jieba.cut(sentence, cut_all=False)\n",
    "final_word = [] # 儲存最後的詞\n",
    "for word in breakword:     # 拆解句子為字詞\n",
    "    if word not in stops:  # 不是停用詞\n",
    "        final_word.append(word)\n",
    "print(\"去除停用:\" + '|' . join(final_word))\n",
    "\n",
    "# 預設模式斷詞\n",
    "breakword = jieba.cut(sentence, cut_all=False)\n",
    "print(\"預設模式:\" + '|' . join(breakword))\n",
    "\n",
    "# 全文模式斷詞\n",
    "breakword = jieba.cut(sentence, cut_all=True)\n",
    "print(\"全文模式:\" + '|' . join(breakword))\n",
    "\n",
    "# 搜尋引擎模式斷詞\n",
    "breakword = jieba.cut_for_search(sentence)\n",
    "print(\"搜尋引擎:\" + '|' . join(breakword))"
   ]
  },
  {
   "cell_type": "code",
   "execution_count": null,
   "metadata": {},
   "outputs": [],
   "source": []
  }
 ],
 "metadata": {
  "kernelspec": {
   "display_name": "Python 3",
   "language": "python",
   "name": "python3"
  },
  "language_info": {
   "codemirror_mode": {
    "name": "ipython",
    "version": 3
   },
   "file_extension": ".py",
   "mimetype": "text/x-python",
   "name": "python",
   "nbconvert_exporter": "python",
   "pygments_lexer": "ipython3",
   "version": "3.6.5"
  }
 },
 "nbformat": 4,
 "nbformat_minor": 2
}
