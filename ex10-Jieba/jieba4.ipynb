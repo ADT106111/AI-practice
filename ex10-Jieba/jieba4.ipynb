{
 "cells": [
  {
   "cell_type": "code",
   "execution_count": 1,
   "metadata": {},
   "outputs": [
    {
     "name": "stderr",
     "output_type": "stream",
     "text": [
      "Building prefix dict from C:\\Users\\user\\Desktop\\Jieba\\dictionary\\dict.txt.big.txt ...\n",
      "Loading model from cache C:\\Users\\user\\AppData\\Local\\Temp\\jieba.u99bfbffc5b005801c56d675f8bde376c.cache\n",
      "Loading model cost 0.974 seconds.\n",
      "Prefix dict has been built succesfully.\n"
     ]
    },
    {
     "name": "stdout",
     "output_type": "stream",
     "text": [
      "預設模式:周|某某|，|來到|國立|臺中教育大學|數位|內容|科技|學系|，|簡稱|數位系|，|就讀|大學部|肥宅組|。\n",
      "全文模式:周|某某|||來到|國立|臺中|臺中教育大學|教育|大學|數位|內容|科技|學系|||簡稱|數位|數位系|||就讀|大學|大學部|學部|肥宅組||\n",
      "搜尋引擎:周|某某|，|來到|國立|臺中|教育|大學|臺中教育大學|數位|內容|科技|學系|，|簡稱|數位|數位系|，|就讀|大學|學部|大學部|肥宅組|。\n"
     ]
    }
   ],
   "source": [
    "#encoding=utf-8\n",
    "import jieba\n",
    "\n",
    "#設定中文詞庫\n",
    "jieba.set_dictionary('dictionary/dict.txt.big.txt')\n",
    "\n",
    "#增加自訂義詞\n",
    "jieba.load_userdict('dictionary/user_dict.txt')\n",
    "\n",
    "sentence = \"周某某，來到國立臺中教育大學數位內容科技學系，簡稱數位系，就讀大學部肥宅組。\"\n",
    "\n",
    "jieba.add_word('肥宅組')\n",
    "\n",
    "# 預設模式斷詞\n",
    "breakword = jieba.cut(sentence, cut_all=False)\n",
    "print(\"預設模式:\" + '|' . join(breakword))\n",
    "\n",
    "# 全文模式斷詞\n",
    "breakword = jieba.cut(sentence, cut_all=True)\n",
    "print(\"全文模式:\" + '|' . join(breakword))\n",
    "\n",
    "# 搜尋引擎模式斷詞\n",
    "breakword = jieba.cut_for_search(sentence)\n",
    "print(\"搜尋引擎:\" + '|' . join(breakword))"
   ]
  },
  {
   "cell_type": "code",
   "execution_count": null,
   "metadata": {},
   "outputs": [],
   "source": []
  }
 ],
 "metadata": {
  "kernelspec": {
   "display_name": "Python 3",
   "language": "python",
   "name": "python3"
  },
  "language_info": {
   "codemirror_mode": {
    "name": "ipython",
    "version": 3
   },
   "file_extension": ".py",
   "mimetype": "text/x-python",
   "name": "python",
   "nbconvert_exporter": "python",
   "pygments_lexer": "ipython3",
   "version": "3.6.5"
  }
 },
 "nbformat": 4,
 "nbformat_minor": 2
}
