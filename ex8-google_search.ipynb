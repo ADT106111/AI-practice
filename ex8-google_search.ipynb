{
 "cells": [
  {
   "cell_type": "code",
   "execution_count": 1,
   "metadata": {},
   "outputs": [
    {
     "name": "stdout",
     "output_type": "stream",
     "text": [
      "標題：綜合:: 新聞中心:: 遊戲基地gamebasehttps://www.gamebase.com.tw › news\n",
      "網址：/url?q=https://www.gamebase.com.tw/news/&sa=U&ved=2ahUKEwjNybTgp6DlAhVLeKwKHUUMBBUQFjAAegQIARAB&usg=AOvVaw0PS1-xzFyhbudyMFPACYSt\n",
      "標題：udn遊戲角落| 聯合新聞網https://game.udn.com\n",
      "網址：/url?q=https://game.udn.com/&sa=U&ved=2ahUKEwjNybTgp6DlAhVLeKwKHUUMBBUQFjABegQIChAB&usg=AOvVaw3d6__BPPtfTazxanKQtO7A\n",
      "標題：遊戲| 宅宅新聞https://news.gamme.com.tw › 宅宅新聞\n",
      "網址：/url?q=https://news.gamme.com.tw/category/gaming&sa=U&ved=2ahUKEwjNybTgp6DlAhVLeKwKHUUMBBUQFjACegQIBxAB&usg=AOvVaw0JwIgjlxm_Hyt_ao7aWYGz\n",
      "標題：ETtoday遊戲雲| ETtoday新聞雲https://game.ettoday.net\n",
      "網址：/url?q=https://game.ettoday.net/&sa=U&ved=2ahUKEwjNybTgp6DlAhVLeKwKHUUMBBUQFjADegQICRAB&usg=AOvVaw1MqPzGwXHFCDe2wAeKVz8k\n",
      "標題：PC遊戲快報 - PC遊戲新聞- PCDIY! onlinewww.pcdiy.com.tw › list\n",
      "網址：/url?q=http://www.pcdiy.com.tw/list/127&sa=U&ved=2ahUKEwjNybTgp6DlAhVLeKwKHUUMBBUQFjAEegQICBAB&usg=AOvVaw1wTa8CgJ2o81skGtVDJio2\n",
      "標題：单机游戏新闻_ 游民星空Gamersky.comhttps://www.gamersky.com › news\n",
      "網址：/url?q=https://www.gamersky.com/news/pc/zx/&sa=U&ved=2ahUKEwjNybTgp6DlAhVLeKwKHUUMBBUQFjAFegQIBRAB&usg=AOvVaw3IS1I2glNlMUJzhwoauQcT\n",
      "標題：巴哈姆特GNN 2018 年度十大PC 遊戲新聞回顧 - GNN新聞https://gnn.gamer.com.tw › detail\n",
      "網址：/url?q=https://gnn.gamer.com.tw/detail.php%3Fsn%3D173367&sa=U&ved=2ahUKEwjNybTgp6DlAhVLeKwKHUUMBBUQFjAGegQIBhAB&usg=AOvVaw1eQFKSJxLl_pskro_slVSv\n",
      "標題：遊戲新聞- PChome 新聞news.pchome.com.tw › cat › game › hot\n",
      "網址：/url?q=http://news.pchome.com.tw/cat/game/hot&sa=U&ved=2ahUKEwjNybTgp6DlAhVLeKwKHUUMBBUQFjAHegQIAhAB&usg=AOvVaw00k88LiH2B4C2gFJRabNE-\n",
      "標題：遊戲新聞| GeForcehttps://www.geforce.com.tw › whats-new › tag › 遊戲新聞\n",
      "網址：/url?q=https://www.geforce.com.tw/whats-new/tag/%25E9%2581%258A%25E6%2588%25B2%25E6%2596%25B0%25E8%2581%259E&sa=U&ved=2ahUKEwjNybTgp6DlAhVLeKwKHUUMBBUQFjAIegQIBBAB&usg=AOvVaw2LrvD7tm0WXTQH1XeTDWqI\n",
      "標題：遊戲新聞| 蝦米攻略網https://pcucgame.com › category › news\n",
      "網址：/url?q=https://pcucgame.com/category/news/&sa=U&ved=2ahUKEwjNybTgp6DlAhVLeKwKHUUMBBUQFjAJegQIAxAB&usg=AOvVaw20SzLtBvY_FssOXbPIU008\n"
     ]
    }
   ],
   "source": [
    "import requests,os\n",
    "from bs4 import BeautifulSoup\n",
    "\n",
    "# GoogLe 搜尋結果\n",
    "google_url = 'https://www.google.com.tw/search'\n",
    "\n",
    "#查詢參數\n",
    "my_params = {'q': '遊戲新聞'}\n",
    "\n",
    "#下載 Google 搜尋結果\n",
    "r = requests.get(google_url, params = my_params)\n",
    "\n",
    "#確認是否下載成功\n",
    "if r.status_code == requests.codes.ok:\n",
    "    #以 BeartifulSoup 解析HTML 原始碼\n",
    "    soup = BeautifulSoup(r.text, 'html.parser')\n",
    "    \n",
    "    #觀察HTML 原始碼\n",
    "    #用 print(soup.prettify()) 找出特定的 class類別 Google=>kCrYT\n",
    "    \n",
    "    #以CSS 的選擇器來抓取 Google 的搜尋結果 => items = soup.select('div.上面抓到的class名稱 > a[href^=\"/url\"]')\n",
    "    items = soup.select('div.kCrYT > a[href^=\"/url\"]')\n",
    "    for i in items:\n",
    "        #標題\n",
    "        print(\"標題：\" + i.text)\n",
    "        #網址\n",
    "        print(\"網址：\" + i.get('href'))"
   ]
  }
 ],
 "metadata": {
  "kernelspec": {
   "display_name": "Python 3",
   "language": "python",
   "name": "python3"
  },
  "language_info": {
   "codemirror_mode": {
    "name": "ipython",
    "version": 3
   },
   "file_extension": ".py",
   "mimetype": "text/x-python",
   "name": "python",
   "nbconvert_exporter": "python",
   "pygments_lexer": "ipython3",
   "version": "3.6.5"
  }
 },
 "nbformat": 4,
 "nbformat_minor": 2
}
