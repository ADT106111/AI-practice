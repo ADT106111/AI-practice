{
 "cells": [
  {
   "cell_type": "code",
   "execution_count": 1,
   "metadata": {},
   "outputs": [
    {
     "name": "stderr",
     "output_type": "stream",
     "text": [
      "C:\\Users\\carol\\Anaconda3\\lib\\site-packages\\pydub\\utils.py:165: RuntimeWarning: Couldn't find ffmpeg or avconv - defaulting to ffmpeg, but may not work\n",
      "  warn(\"Couldn't find ffmpeg or avconv - defaulting to ffmpeg, but may not work\", RuntimeWarning)\n"
     ]
    },
    {
     "name": "stdout",
     "output_type": "stream",
     "text": [
      "存檔： temdir/chunk0.wav\n",
      "存檔： temdir/chunk1.wav\n",
      "存檔： temdir/chunk2.wav\n",
      "存檔： temdir/chunk3.wav\n",
      "存檔： temdir/chunk4.wav\n",
      "開始翻譯......\n",
      "1. 那一年默默無言只能選擇離開無邪的笑容已經不再精彩你害怕結局所以聽你傷害說是我擋住你的美好未來你堅決不希望我等待我便默默的讓你走開如今你受了傷回來教我如何接受的安排我難過的是放棄你放棄愛放棄的夢被打碎忍住悲\n",
      "2. 我以為是成全你卻說你更不愉快我難過的是忘了你忘了愛盡全力忘記我們真心相愛也忘了告訴你失去的不能重來那一年默默無言只能選擇離開無邪的笑容已經不再精彩你害怕結局所以聽你傷害說是我擋住你的美好未來你堅決不希望我的\n",
      "3. 帶我便默默的讓你走開如今你受的傷回來教我如何接受這安排我難過的是放棄你放棄愛放棄的夢被打碎忍住悲哀我以為是成全你卻說你更不愉快我難過的是忘了你忘了愛盡全力忘記我們真心相愛也忘了告訴你失去的不能重來我難過的是\n",
      "4. 放棄你放棄愛放棄的夢被打碎忍住悲哀我以為是成全你卻說你更不愉快我難過的是忘了你忘了愛盡全力忘記我們真心相愛也忘了告訴你失去的不能重來我難過的是放棄你放棄愛放棄的夢被打碎忍住悲哀我以為是成全你卻說你更不愉快\n",
      "5. 我難過的是忘了你忘了愛盡全力忘記我們真心相愛也忘了告訴你失去的不能重來\n",
      "翻譯結束！\n"
     ]
    }
   ],
   "source": [
    "from pydub import AudioSegment    #載入模組 pydub -> 讀取語音檔\n",
    "from pydub.utils import make_chunks    #載入模組 pydub -> 用來切割過長的音檔\n",
    "import speech_recognition as sr\n",
    "import shutil, os\n",
    "\n",
    "os.mkdir('temdir')\n",
    "audiofile = AudioSegment.from_file(\"python_5566.wav\", \"wav\")   #讀取原始音檔並存於變數\n",
    "chunklist = make_chunks(audiofile, 30000)      #讓音檔以30秒為一個小的語音檔\n",
    "\n",
    "#儲存分割後的音檔\n",
    "for i, chunk in enumerate(chunklist):\n",
    "    chunk_name = \"temdir/chunk{0}.wav\".format(i)\n",
    "    print(\"存檔：\", chunk_name)\n",
    "    chunk.export(chunk_name, format=\"wav\")\n",
    "\n",
    "r = sr.Recognizer()   #建立語音辨識物件\n",
    "print(\"開始翻譯......\")\n",
    "file = open('pythinl_sr.txt', 'w')   #儲存辨識結果\n",
    "for i in range(len(chunklist)):\n",
    "    try:\n",
    "        with sr.WavFile(\"temdir/chunk{}.wav\".format(i)) as source:\n",
    "            audio = r.record(source)\n",
    "        result = r.recognize_google(audio, language=\"zh-Tw\")  #使辨識出的文字設定為繁體中文\n",
    "        print('{}. {}'.format(i+1, result))\n",
    "        file.write(result)\n",
    "    except sr.UnknownValueError:\n",
    "        print(\"Google Speech Recognition 無法辨識語音！\")\n",
    "    except sr.RequestError as e:\n",
    "        print(\"無法由Google Speech Recognition 取得結果;{0}\".format(e))\n",
    "    \n",
    "file.close()\n",
    "print(\"翻譯結束！\")\n",
    "shutil.rmtree('temdir')   #清除分割檔"
   ]
  },
  {
   "cell_type": "code",
   "execution_count": null,
   "metadata": {},
   "outputs": [],
   "source": []
  },
  {
   "cell_type": "code",
   "execution_count": null,
   "metadata": {},
   "outputs": [],
   "source": []
  },
  {
   "cell_type": "code",
   "execution_count": null,
   "metadata": {},
   "outputs": [],
   "source": []
  }
 ],
 "metadata": {
  "kernelspec": {
   "display_name": "Python 3",
   "language": "python",
   "name": "python3"
  },
  "language_info": {
   "codemirror_mode": {
    "name": "ipython",
    "version": 3
   },
   "file_extension": ".py",
   "mimetype": "text/x-python",
   "name": "python",
   "nbconvert_exporter": "python",
   "pygments_lexer": "ipython3",
   "version": "3.7.3"
  }
 },
 "nbformat": 4,
 "nbformat_minor": 2
}
