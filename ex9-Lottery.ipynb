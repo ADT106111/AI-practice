{
 "cells": [
  {
   "cell_type": "code",
   "execution_count": 3,
   "metadata": {},
   "outputs": [
    {
     "name": "stdout",
     "output_type": "stream",
     "text": [
      "[<div class=\"contents_box02\">\n",
      "<div id=\"contents_logo_02\"></div><div class=\"contents_mine_tx02\"><span class=\"font_black15\">108/10/14 第108000082期 </span><span class=\"font_red14\"><a href=\"Result_all.aspx#01\">開獎結果</a></span></div><div class=\"contents_mine_tx04\">開出順序<br/>大小順序<br/>第二區</div><div class=\"ball_tx ball_green\">16 </div><div class=\"ball_tx ball_green\">13 </div><div class=\"ball_tx ball_green\">33 </div><div class=\"ball_tx ball_green\">15 </div><div class=\"ball_tx ball_green\">14 </div><div class=\"ball_tx ball_green\">31 </div><div class=\"ball_tx ball_green\">13 </div><div class=\"ball_tx ball_green\">14 </div><div class=\"ball_tx ball_green\">15 </div><div class=\"ball_tx ball_green\">16 </div><div class=\"ball_tx ball_green\">31 </div><div class=\"ball_tx ball_green\">33 </div><div class=\"ball_red\">04 </div>\n",
      "</div>, <div class=\"contents_box02\">\n",
      "<div id=\"contents_logo_03\"></div><div class=\"contents_mine_tx02\"><span class=\"font_black15\">108/10/14 第108000082期 </span><span class=\"font_red14\"><a href=\"Result_all.aspx#07\">開獎結果</a></span></div><div class=\"contents_mine_tx04\">開出順序<br/>大小順序</div><div class=\"ball_tx ball_green\">16 </div><div class=\"ball_tx ball_green\">13 </div><div class=\"ball_tx ball_green\">33 </div><div class=\"ball_tx ball_green\">15 </div><div class=\"ball_tx ball_green\">14 </div><div class=\"ball_tx ball_green\">31 </div><div class=\"ball_tx ball_green\">13 </div><div class=\"ball_tx ball_green\">14 </div><div class=\"ball_tx ball_green\">15 </div><div class=\"ball_tx ball_green\">16 </div><div class=\"ball_tx ball_green\">31 </div><div class=\"ball_tx ball_green\">33 </div>\n",
      "</div>, <div class=\"contents_box02\">\n",
      "<div id=\"contents_logo_04\"></div><div class=\"contents_mine_tx02\"><span class=\"font_black15\">108/10/15 第108000090期 </span><span class=\"font_red14\"><a href=\"Result_all.aspx#02\">開獎結果</a></span></div><div class=\"contents_mine_tx04\">開出順序<br/>大小順序<br/>特別號</div><div class=\"ball_tx ball_yellow\">13 </div><div class=\"ball_tx ball_yellow\">21 </div><div class=\"ball_tx ball_yellow\">38 </div><div class=\"ball_tx ball_yellow\">28 </div><div class=\"ball_tx ball_yellow\">37 </div><div class=\"ball_tx ball_yellow\">35 </div><div class=\"ball_tx ball_yellow\">13 </div><div class=\"ball_tx ball_yellow\">21 </div><div class=\"ball_tx ball_yellow\">28 </div><div class=\"ball_tx ball_yellow\">35 </div><div class=\"ball_tx ball_yellow\">37 </div><div class=\"ball_tx ball_yellow\">38 </div><div class=\"ball_red\">33 </div>\n",
      "</div>, <div class=\"contents_box02\">\n",
      "<div id=\"contents_logo_05\"></div><div class=\"contents_mine_tx02\"><span class=\"font_black15\">108/10/15 第108000090期 </span><span class=\"font_red14\"><a href=\"Result_all.aspx#08\">開獎結果</a></span></div><div class=\"contents_mine_tx04\">開出順序<br/>大小順序</div><div class=\"ball_tx ball_yellow\">13 </div><div class=\"ball_tx ball_yellow\">21 </div><div class=\"ball_tx ball_yellow\">38 </div><div class=\"ball_tx ball_yellow\">28 </div><div class=\"ball_tx ball_yellow\">37 </div><div class=\"ball_tx ball_yellow\">35 </div><div class=\"ball_tx ball_yellow\">13 </div><div class=\"ball_tx ball_yellow\">21 </div><div class=\"ball_tx ball_yellow\">28 </div><div class=\"ball_tx ball_yellow\">35 </div><div class=\"ball_tx ball_yellow\">37 </div><div class=\"ball_tx ball_yellow\">38 </div>\n",
      "</div>]\n",
      "----------------------------\n",
      "[<div class=\"ball_tx ball_yellow\">13 </div>, <div class=\"ball_tx ball_yellow\">21 </div>, <div class=\"ball_tx ball_yellow\">38 </div>, <div class=\"ball_tx ball_yellow\">28 </div>, <div class=\"ball_tx ball_yellow\">37 </div>, <div class=\"ball_tx ball_yellow\">35 </div>, <div class=\"ball_tx ball_yellow\">13 </div>, <div class=\"ball_tx ball_yellow\">21 </div>, <div class=\"ball_tx ball_yellow\">28 </div>, <div class=\"ball_tx ball_yellow\">35 </div>, <div class=\"ball_tx ball_yellow\">37 </div>, <div class=\"ball_tx ball_yellow\">38 </div>]\n",
      "----------------------------\n",
      "[<div class=\"ball_red\">33 </div>]\n"
     ]
    }
   ],
   "source": [
    "import requests\n",
    "from bs4 import BeautifulSoup\n",
    "\n",
    "url = 'http://www.taiwanlottery.com.tw/'\n",
    "html = requests.get(url)\n",
    "sp = BeautifulSoup(html.text, 'html.parser')\n",
    "\n",
    "#先使用 print(sp.prettify()) 將網頁印出並作分析(此以大樂透區塊為例)\n",
    "#print(sp.prettify())\n",
    "\n",
    "data1 = sp.select(\"#rightdown\")\n",
    "#print(data1)\n",
    "#print(\"----------------------------\")\n",
    "\n",
    "data2 = data1[0].find_all('div', {'class':'contents_box02'})\n",
    "print(data2)\n",
    "print(\"----------------------------\")\n",
    "\n",
    "data3 = data2[2].find_all('div', {'class':'ball_tx ball_yellow'})\n",
    "print(data3)\n",
    "print(\"----------------------------\")\n",
    "\n",
    "data4 = data2[2].find_all('div', {'class':'ball_red'})\n",
    "print(data4)"
   ]
  },
  {
   "cell_type": "code",
   "execution_count": 2,
   "metadata": {},
   "outputs": [
    {
     "name": "stdout",
     "output_type": "stream",
     "text": [
      "本期大樂透號碼\n",
      "開出順序：\n",
      "13  21  38  28  37  35  \n",
      "大小順序：\n",
      "13  21  28  35  37  38  \n",
      "特別號：33 \n"
     ]
    }
   ],
   "source": [
    "#大樂透號碼\n",
    "print(\"本期大樂透號碼\")\n",
    "print(\"開出順序：\")\n",
    "for n in range(0,6):\n",
    "    print(data3[n].text,end=\" \")\n",
    "\n",
    "print(\"\\n大小順序：\")\n",
    "for n in range(6,len(data3)):\n",
    "    print(data3[n].text,end=\" \")\n",
    "\n",
    "#特別號\n",
    "red = data2[2].find('div', {'class':'ball_red'})\n",
    "print(\"\\n特別號：{}\".format(red.text))"
   ]
  }
 ],
 "metadata": {
  "kernelspec": {
   "display_name": "Python 3",
   "language": "python",
   "name": "python3"
  },
  "language_info": {
   "codemirror_mode": {
    "name": "ipython",
    "version": 3
   },
   "file_extension": ".py",
   "mimetype": "text/x-python",
   "name": "python",
   "nbconvert_exporter": "python",
   "pygments_lexer": "ipython3",
   "version": "3.6.5"
  }
 },
 "nbformat": 4,
 "nbformat_minor": 2
}
